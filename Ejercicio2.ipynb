{
 "cells": [
  {
   "cell_type": "markdown",
   "id": "63d7a126-db23-4de5-b6e0-ffd1197fee67",
   "metadata": {},
   "source": [
    "##Entero"
   ]
  },
  {
   "cell_type": "code",
   "execution_count": 1,
   "id": "118da625-3bd9-4c5d-b298-a4aeabdb88e9",
   "metadata": {},
   "outputs": [
    {
     "name": "stdin",
     "output_type": "stream",
     "text": [
      "Ingresa tu edad:  29\n"
     ]
    },
    {
     "name": "stdout",
     "output_type": "stream",
     "text": [
      "29\n",
      "<class 'int'>\n"
     ]
    }
   ],
   "source": [
    "my_input = eval ( input ( \"Ingresa tu edad: \"))\n",
    "print (my_input)\n",
    "print ( type(my_input))"
   ]
  },
  {
   "cell_type": "markdown",
   "id": "aebaa325-5e27-4f9d-b6fa-dc553f815959",
   "metadata": {},
   "source": [
    "##Cadena"
   ]
  },
  {
   "cell_type": "code",
   "execution_count": 2,
   "id": "dbfa6309-7c41-47f9-a752-cf1bc5358891",
   "metadata": {},
   "outputs": [
    {
     "name": "stdout",
     "output_type": "stream",
     "text": [
      "  \n",
      "<class 'str'>\n"
     ]
    },
    {
     "name": "stdin",
     "output_type": "stream",
     "text": [
      "Ingresa tu nombre:  Abigail\n"
     ]
    }
   ],
   "source": [
    "my_string = \"  \"\n",
    "print (my_string)\n",
    "print(type(my_string))\n",
    "my_string= input ( \"Ingresa tu nombre: \")"
   ]
  },
  {
   "cell_type": "markdown",
   "id": "533f2968-697f-4c89-9b5a-9de80d4ffa43",
   "metadata": {},
   "source": [
    "##Float"
   ]
  },
  {
   "cell_type": "code",
   "execution_count": 3,
   "id": "c3de826b-034f-4c4e-9d44-464575d09112",
   "metadata": {},
   "outputs": [
    {
     "name": "stdin",
     "output_type": "stream",
     "text": [
      "Ingresa tu estatura:  1.56\n"
     ]
    },
    {
     "name": "stdout",
     "output_type": "stream",
     "text": [
      "1.56\n",
      "<class 'float'>\n"
     ]
    }
   ],
   "source": [
    "my_input = eval ( input ( \"Ingresa tu estatura: \"))\n",
    "print (my_input)\n",
    "print(type(my_input))\n"
   ]
  },
  {
   "cell_type": "code",
   "execution_count": null,
   "id": "7dcc1dc0-3552-4490-8710-b54b1702869c",
   "metadata": {},
   "outputs": [],
   "source": []
  }
 ],
 "metadata": {
  "kernelspec": {
   "display_name": "Python 3 (ipykernel)",
   "language": "python",
   "name": "python3"
  },
  "language_info": {
   "codemirror_mode": {
    "name": "ipython",
    "version": 3
   },
   "file_extension": ".py",
   "mimetype": "text/x-python",
   "name": "python",
   "nbconvert_exporter": "python",
   "pygments_lexer": "ipython3",
   "version": "3.12.5"
  }
 },
 "nbformat": 4,
 "nbformat_minor": 5
}
